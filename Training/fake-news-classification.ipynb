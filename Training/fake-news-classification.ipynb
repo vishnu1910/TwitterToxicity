{
 "cells": [
  {
   "cell_type": "code",
   "execution_count": 1,
   "metadata": {
    "execution": {
     "iopub.execute_input": "2021-01-10T07:18:44.423616Z",
     "iopub.status.busy": "2021-01-10T07:18:44.422990Z",
     "iopub.status.idle": "2021-01-10T07:18:54.871048Z",
     "shell.execute_reply": "2021-01-10T07:18:54.871525Z"
    },
    "id": "dNHFcG7_vwjf",
    "papermill": {
     "duration": 10.46079,
     "end_time": "2021-01-10T07:18:54.871695",
     "exception": false,
     "start_time": "2021-01-10T07:18:44.410905",
     "status": "completed"
    },
    "tags": []
   },
   "outputs": [
    {
     "data": {
      "text/html": [
       "<div>\n",
       "<style scoped>\n",
       "    .dataframe tbody tr th:only-of-type {\n",
       "        vertical-align: middle;\n",
       "    }\n",
       "\n",
       "    .dataframe tbody tr th {\n",
       "        vertical-align: top;\n",
       "    }\n",
       "\n",
       "    .dataframe thead th {\n",
       "        text-align: right;\n",
       "    }\n",
       "</style>\n",
       "<table border=\"1\" class=\"dataframe\">\n",
       "  <thead>\n",
       "    <tr style=\"text-align: right;\">\n",
       "      <th></th>\n",
       "      <th>id</th>\n",
       "      <th>title</th>\n",
       "      <th>author</th>\n",
       "      <th>text</th>\n",
       "      <th>label</th>\n",
       "    </tr>\n",
       "  </thead>\n",
       "  <tbody>\n",
       "    <tr>\n",
       "      <th>0</th>\n",
       "      <td>0</td>\n",
       "      <td>House Dem Aide: We Didn’t Even See Comey’s Let...</td>\n",
       "      <td>Darrell Lucus</td>\n",
       "      <td>House Dem Aide: We Didn’t Even See Comey’s Let...</td>\n",
       "      <td>1</td>\n",
       "    </tr>\n",
       "    <tr>\n",
       "      <th>1</th>\n",
       "      <td>1</td>\n",
       "      <td>FLYNN: Hillary Clinton, Big Woman on Campus - ...</td>\n",
       "      <td>Daniel J. Flynn</td>\n",
       "      <td>Ever get the feeling your life circles the rou...</td>\n",
       "      <td>0</td>\n",
       "    </tr>\n",
       "    <tr>\n",
       "      <th>2</th>\n",
       "      <td>2</td>\n",
       "      <td>Why the Truth Might Get You Fired</td>\n",
       "      <td>Consortiumnews.com</td>\n",
       "      <td>Why the Truth Might Get You Fired October 29, ...</td>\n",
       "      <td>1</td>\n",
       "    </tr>\n",
       "    <tr>\n",
       "      <th>3</th>\n",
       "      <td>3</td>\n",
       "      <td>15 Civilians Killed In Single US Airstrike Hav...</td>\n",
       "      <td>Jessica Purkiss</td>\n",
       "      <td>Videos 15 Civilians Killed In Single US Airstr...</td>\n",
       "      <td>1</td>\n",
       "    </tr>\n",
       "    <tr>\n",
       "      <th>4</th>\n",
       "      <td>4</td>\n",
       "      <td>Iranian woman jailed for fictional unpublished...</td>\n",
       "      <td>Howard Portnoy</td>\n",
       "      <td>Print \\nAn Iranian woman has been sentenced to...</td>\n",
       "      <td>1</td>\n",
       "    </tr>\n",
       "  </tbody>\n",
       "</table>\n",
       "</div>"
      ],
      "text/plain": [
       "   id                                              title              author  \\\n",
       "0   0  House Dem Aide: We Didn’t Even See Comey’s Let...       Darrell Lucus   \n",
       "1   1  FLYNN: Hillary Clinton, Big Woman on Campus - ...     Daniel J. Flynn   \n",
       "2   2                  Why the Truth Might Get You Fired  Consortiumnews.com   \n",
       "3   3  15 Civilians Killed In Single US Airstrike Hav...     Jessica Purkiss   \n",
       "4   4  Iranian woman jailed for fictional unpublished...      Howard Portnoy   \n",
       "\n",
       "                                                text  label  \n",
       "0  House Dem Aide: We Didn’t Even See Comey’s Let...      1  \n",
       "1  Ever get the feeling your life circles the rou...      0  \n",
       "2  Why the Truth Might Get You Fired October 29, ...      1  \n",
       "3  Videos 15 Civilians Killed In Single US Airstr...      1  \n",
       "4  Print \\nAn Iranian woman has been sentenced to...      1  "
      ]
     },
     "execution_count": 1,
     "metadata": {},
     "output_type": "execute_result"
    }
   ],
   "source": [
    "from keras.models import Sequential\n",
    "from keras import layers\n",
    "\n",
    "import re\n",
    "import pandas as pd\n",
    "from nltk.corpus import stopwords\n",
    "from sklearn.model_selection import train_test_split\n",
    "from sklearn.feature_extraction.text import CountVectorizer\n",
    "from nltk.stem.porter import PorterStemmer\n",
    "ps = PorterStemmer()\n",
    "\n",
    "df = pd.read_csv('../input/fake-news/train.csv')\n",
    "test = pd.read_csv('../input/fake-news/test.csv')\n",
    "df.head()"
   ]
  },
  {
   "cell_type": "code",
   "execution_count": 2,
   "metadata": {
    "execution": {
     "iopub.execute_input": "2021-01-10T07:18:54.906670Z",
     "iopub.status.busy": "2021-01-10T07:18:54.897261Z",
     "iopub.status.idle": "2021-01-10T07:18:54.948702Z",
     "shell.execute_reply": "2021-01-10T07:18:54.949472Z"
    },
    "papermill": {
     "duration": 0.066849,
     "end_time": "2021-01-10T07:18:54.949692",
     "exception": false,
     "start_time": "2021-01-10T07:18:54.882843",
     "status": "completed"
    },
    "tags": []
   },
   "outputs": [],
   "source": [
    "df = df.fillna('')\n",
    "test = test.fillna('')\n",
    "df['total'] = df['author']+' '+df['title']\n",
    "test['total']=test['author']+' '+test['title']"
   ]
  },
  {
   "cell_type": "code",
   "execution_count": 3,
   "metadata": {
    "execution": {
     "iopub.execute_input": "2021-01-10T07:18:54.974667Z",
     "iopub.status.busy": "2021-01-10T07:18:54.973655Z",
     "iopub.status.idle": "2021-01-10T07:18:54.988446Z",
     "shell.execute_reply": "2021-01-10T07:18:54.989189Z"
    },
    "id": "a5smMpW6v-RG",
    "papermill": {
     "duration": 0.030596,
     "end_time": "2021-01-10T07:18:54.989338",
     "exception": false,
     "start_time": "2021-01-10T07:18:54.958742",
     "status": "completed"
    },
    "tags": []
   },
   "outputs": [
    {
     "name": "stdout",
     "output_type": "stream",
     "text": [
      "(20800, 5)\n",
      "(20800,)\n"
     ]
    }
   ],
   "source": [
    "X = df.drop('label',axis=1)\n",
    "y = df['label']\n",
    "print(X.shape)\n",
    "print(y.shape)"
   ]
  },
  {
   "cell_type": "code",
   "execution_count": 4,
   "metadata": {
    "execution": {
     "iopub.execute_input": "2021-01-10T07:18:55.017538Z",
     "iopub.status.busy": "2021-01-10T07:18:55.016861Z",
     "iopub.status.idle": "2021-01-10T07:19:42.358448Z",
     "shell.execute_reply": "2021-01-10T07:19:42.357591Z"
    },
    "papermill": {
     "duration": 47.359636,
     "end_time": "2021-01-10T07:19:42.358594",
     "exception": false,
     "start_time": "2021-01-10T07:18:54.998958",
     "status": "completed"
    },
    "tags": []
   },
   "outputs": [],
   "source": [
    "def stemmer(input_):\n",
    "    review = re.sub('[^a-zA-Z]',' ',input_)\n",
    "    review = review.lower()\n",
    "    review = review.split()\n",
    "    review = [ps.stem(word) for word in review if not word in stopwords.words('english')]\n",
    "    review = ' '.join(review)\n",
    "    return review\n",
    "\n",
    "df['total'] = df['total'].apply(stemmer)"
   ]
  },
  {
   "cell_type": "code",
   "execution_count": 5,
   "metadata": {
    "execution": {
     "iopub.execute_input": "2021-01-10T07:19:42.387245Z",
     "iopub.status.busy": "2021-01-10T07:19:42.386461Z",
     "iopub.status.idle": "2021-01-10T07:19:42.389530Z",
     "shell.execute_reply": "2021-01-10T07:19:42.390024Z"
    },
    "id": "qWrOZ4WRwLEh",
    "outputId": "e5efbb36-fde6-4603-e1af-8f9a72ae018e",
    "papermill": {
     "duration": 0.021731,
     "end_time": "2021-01-10T07:19:42.390169",
     "exception": false,
     "start_time": "2021-01-10T07:19:42.368438",
     "status": "completed"
    },
    "tags": []
   },
   "outputs": [],
   "source": [
    "sentences = df['total'].values\n",
    "labels = df['label'].values\n",
    "sentences_train, sentences_test, y_train, y_test = train_test_split(sentences, labels, test_size=0.25, random_state=1000)"
   ]
  },
  {
   "cell_type": "code",
   "execution_count": 6,
   "metadata": {
    "execution": {
     "iopub.execute_input": "2021-01-10T07:19:42.428211Z",
     "iopub.status.busy": "2021-01-10T07:19:42.423139Z",
     "iopub.status.idle": "2021-01-10T07:19:43.125553Z",
     "shell.execute_reply": "2021-01-10T07:19:43.126123Z"
    },
    "papermill": {
     "duration": 0.726372,
     "end_time": "2021-01-10T07:19:43.126281",
     "exception": false,
     "start_time": "2021-01-10T07:19:42.399909",
     "status": "completed"
    },
    "tags": []
   },
   "outputs": [],
   "source": [
    "vectorizer = CountVectorizer()\n",
    "vectorizer.fit(sentences_train)\n",
    "\n",
    "X_train = vectorizer.transform(sentences_train)\n",
    "X_test  = vectorizer.transform(sentences_test)\n",
    "\n",
    "# len(vectorizer.vocabulary_) = 15031"
   ]
  },
  {
   "cell_type": "code",
   "execution_count": 7,
   "metadata": {
    "execution": {
     "iopub.execute_input": "2021-01-10T07:19:43.154882Z",
     "iopub.status.busy": "2021-01-10T07:19:43.153911Z",
     "iopub.status.idle": "2021-01-10T07:19:43.296941Z",
     "shell.execute_reply": "2021-01-10T07:19:43.297467Z"
    },
    "papermill": {
     "duration": 0.160926,
     "end_time": "2021-01-10T07:19:43.297608",
     "exception": false,
     "start_time": "2021-01-10T07:19:43.136682",
     "status": "completed"
    },
    "tags": []
   },
   "outputs": [
    {
     "name": "stdout",
     "output_type": "stream",
     "text": [
      "Model: \"sequential\"\n",
      "_________________________________________________________________\n",
      "Layer (type)                 Output Shape              Param #   \n",
      "=================================================================\n",
      "dense (Dense)                (None, 10)                150320    \n",
      "_________________________________________________________________\n",
      "dense_1 (Dense)              (None, 1)                 11        \n",
      "=================================================================\n",
      "Total params: 150,331\n",
      "Trainable params: 150,331\n",
      "Non-trainable params: 0\n",
      "_________________________________________________________________\n"
     ]
    }
   ],
   "source": [
    "input_dim = X_train.shape[1]  # Number of features\n",
    "\n",
    "model = Sequential()\n",
    "model.add(layers.Dense(10, input_dim=input_dim, activation='relu'))\n",
    "model.add(layers.Dense(1, activation='sigmoid'))\n",
    "\n",
    "model.compile(loss='binary_crossentropy', \n",
    "              optimizer='adam', \n",
    "              metrics=['accuracy'])\n",
    "model.summary()"
   ]
  },
  {
   "cell_type": "code",
   "execution_count": 8,
   "metadata": {
    "execution": {
     "iopub.execute_input": "2021-01-10T07:19:43.325266Z",
     "iopub.status.busy": "2021-01-10T07:19:43.324477Z",
     "iopub.status.idle": "2021-01-10T07:20:01.353356Z",
     "shell.execute_reply": "2021-01-10T07:20:01.353962Z"
    },
    "papermill": {
     "duration": 18.045934,
     "end_time": "2021-01-10T07:20:01.354142",
     "exception": false,
     "start_time": "2021-01-10T07:19:43.308208",
     "status": "completed"
    },
    "tags": []
   },
   "outputs": [
    {
     "name": "stdout",
     "output_type": "stream",
     "text": [
      "Epoch 1/6\n",
      "1560/1560 [==============================] - 3s 2ms/step - loss: 0.1537 - accuracy: 0.9647 - val_loss: 0.0498 - val_accuracy: 0.9887\n",
      "Epoch 2/6\n",
      "1560/1560 [==============================] - 3s 2ms/step - loss: 0.0183 - accuracy: 0.9962 - val_loss: 0.0317 - val_accuracy: 0.9919\n",
      "Epoch 3/6\n",
      "1560/1560 [==============================] - 3s 2ms/step - loss: 0.0050 - accuracy: 0.9995 - val_loss: 0.0275 - val_accuracy: 0.9931\n",
      "Epoch 4/6\n",
      "1560/1560 [==============================] - 3s 2ms/step - loss: 0.0017 - accuracy: 0.9999 - val_loss: 0.0272 - val_accuracy: 0.9919\n",
      "Epoch 5/6\n",
      "1560/1560 [==============================] - 3s 2ms/step - loss: 6.5437e-04 - accuracy: 1.0000 - val_loss: 0.0269 - val_accuracy: 0.9921\n",
      "Epoch 6/6\n",
      "1560/1560 [==============================] - 3s 2ms/step - loss: 2.7004e-04 - accuracy: 1.0000 - val_loss: 0.0290 - val_accuracy: 0.9925\n"
     ]
    }
   ],
   "source": [
    "history = model.fit(X_train, y_train,\n",
    "                    epochs=6,\n",
    "                    verbose=True,\n",
    "                    validation_data=(X_test, y_test),\n",
    "                    batch_size=10)"
   ]
  },
  {
   "cell_type": "code",
   "execution_count": 9,
   "metadata": {
    "execution": {
     "iopub.execute_input": "2021-01-10T07:20:01.605511Z",
     "iopub.status.busy": "2021-01-10T07:20:01.604289Z",
     "iopub.status.idle": "2021-01-10T07:20:02.219001Z",
     "shell.execute_reply": "2021-01-10T07:20:02.219535Z"
    },
    "papermill": {
     "duration": 0.74364,
     "end_time": "2021-01-10T07:20:02.219687",
     "exception": false,
     "start_time": "2021-01-10T07:20:01.476047",
     "status": "completed"
    },
    "tags": []
   },
   "outputs": [
    {
     "name": "stdout",
     "output_type": "stream",
     "text": [
      "Training Accuracy: 1.0000\n",
      "Testing Accuracy:  0.9925\n"
     ]
    }
   ],
   "source": [
    "loss, accuracy = model.evaluate(X_train, y_train, verbose=False)\n",
    "print(\"Training Accuracy: {:.4f}\".format(accuracy))\n",
    "loss, accuracy = model.evaluate(X_test, y_test, verbose=False)\n",
    "print(\"Testing Accuracy:  {:.4f}\".format(accuracy))"
   ]
  },
  {
   "cell_type": "code",
   "execution_count": 10,
   "metadata": {
    "execution": {
     "iopub.execute_input": "2021-01-10T07:20:02.440519Z",
     "iopub.status.busy": "2021-01-10T07:20:02.439492Z",
     "iopub.status.idle": "2021-01-10T07:20:03.036868Z",
     "shell.execute_reply": "2021-01-10T07:20:03.034770Z"
    },
    "papermill": {
     "duration": 0.711055,
     "end_time": "2021-01-10T07:20:03.037011",
     "exception": false,
     "start_time": "2021-01-10T07:20:02.325956",
     "status": "completed"
    },
    "tags": []
   },
   "outputs": [],
   "source": [
    "model.save('.')"
   ]
  },
  {
   "cell_type": "code",
   "execution_count": null,
   "metadata": {
    "papermill": {
     "duration": 0.106296,
     "end_time": "2021-01-10T07:20:03.250303",
     "exception": false,
     "start_time": "2021-01-10T07:20:03.144007",
     "status": "completed"
    },
    "tags": []
   },
   "outputs": [],
   "source": []
  }
 ],
 "metadata": {
  "kernelspec": {
   "display_name": "Python 3",
   "language": "python",
   "name": "python3"
  },
  "language_info": {
   "codemirror_mode": {
    "name": "ipython",
    "version": 3
   },
   "file_extension": ".py",
   "mimetype": "text/x-python",
   "name": "python",
   "nbconvert_exporter": "python",
   "pygments_lexer": "ipython3",
   "version": "3.7.6"
  },
  "papermill": {
   "duration": 84.924497,
   "end_time": "2021-01-10T07:20:04.397845",
   "environment_variables": {},
   "exception": null,
   "input_path": "__notebook__.ipynb",
   "output_path": "__notebook__.ipynb",
   "parameters": {},
   "start_time": "2021-01-10T07:18:39.473348",
   "version": "2.1.0"
  }
 },
 "nbformat": 4,
 "nbformat_minor": 4
}
