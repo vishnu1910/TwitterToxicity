{
 "cells": [
  {
   "cell_type": "code",
   "execution_count": 5,
   "metadata": {},
   "outputs": [],
   "source": [
    "# Trained in https://colab.research.google.com/drive/1wCTKdfJGofYhDJCGQcwfdeDv7jKYP0Kq?usp=sharing"
   ]
  },
  {
   "cell_type": "code",
   "execution_count": 37,
   "metadata": {},
   "outputs": [],
   "source": [
    "import numpy as np \n",
    "import pandas as pd\n",
    "import pickle\n",
    "from tensorflow import keras\n",
    "from keras.preprocessing import sequence\n",
    "max_features = 20000\n",
    "maxlen = 100 \n",
    "list_classes = [\"toxic\", \"severe_toxic\", \"obscene\", \"threat\", \"insult\", \"identity_hate\"]\n",
    "tokenizer = pickle.load(open('tokernizer.pickle', 'rb')) \n",
    "model = keras.models.load_model('model') "
   ]
  },
  {
   "cell_type": "code",
   "execution_count": 38,
   "metadata": {},
   "outputs": [],
   "source": [
    "comment = \"=Tony Sidaway is obviously a fistfuckee. He loves an arm up his ass.\""
   ]
  },
  {
   "cell_type": "code",
   "execution_count": 40,
   "metadata": {},
   "outputs": [],
   "source": [
    "data = pd.DataFrame({'comment' : comment}, index = [0])\n",
    "data = data[\"comment\"].fillna(\"CVxTz\").values\n",
    "tokenized = tokenizer.texts_to_sequences(data)\n",
    "X = sequence.pad_sequences(tokenized, maxlen=maxlen) \n",
    "y = model.predict(X).reshape(-1)\n",
    "classes = [list_classes[i] for i,y_elem in enumerate(list(y)) if y_elem > 0.5]"
   ]
  },
  {
   "cell_type": "code",
   "execution_count": 41,
   "metadata": {},
   "outputs": [
    {
     "data": {
      "text/plain": [
       "['toxic', 'obscene', 'insult']"
      ]
     },
     "execution_count": 41,
     "metadata": {},
     "output_type": "execute_result"
    }
   ],
   "source": [
    "classes"
   ]
  },
  {
   "cell_type": "code",
   "execution_count": null,
   "metadata": {},
   "outputs": [],
   "source": []
  }
 ],
 "metadata": {
  "kernelspec": {
   "display_name": "Python 3",
   "language": "python",
   "name": "python3"
  },
  "language_info": {
   "codemirror_mode": {
    "name": "ipython",
    "version": 3
   },
   "file_extension": ".py",
   "mimetype": "text/x-python",
   "name": "python",
   "nbconvert_exporter": "python",
   "pygments_lexer": "ipython3",
   "version": "3.8.3"
  }
 },
 "nbformat": 4,
 "nbformat_minor": 4
}
